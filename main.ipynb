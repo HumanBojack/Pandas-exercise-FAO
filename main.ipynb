{
 "cells": [
  {
   "cell_type": "markdown",
   "metadata": {},
   "source": [
    "# FAO exercice"
   ]
  },
  {
   "cell_type": "code",
   "execution_count": 473,
   "metadata": {},
   "outputs": [],
   "source": [
    "# init\n",
    "import pandas as pd\n",
    "import numpy as np\n",
    "\n",
    "df_anim = pd.read_csv(\"FAOSTAT_animal.csv\")\n",
    "df_veg = pd.read_csv(\"FAOSTAT_vegetal.csv\")\n",
    "df_pop = pd.read_csv(\"FAOSTAT_population.csv\")"
   ]
  },
  {
   "cell_type": "markdown",
   "metadata": {},
   "source": [
    "## Explore the initial data"
   ]
  },
  {
   "cell_type": "code",
   "execution_count": 474,
   "metadata": {},
   "outputs": [
    {
     "name": "stdout",
     "output_type": "stream",
     "text": [
      "\n",
      "The first lines of df_anim:\n",
      "   Domain Code                 Domain  Area Code         Area  Element Code  \\\n",
      "0         FBS  Food Balances (2010-)          2  Afghanistan           645   \n",
      "1         FBS  Food Balances (2010-)          2  Afghanistan           645   \n",
      "2         FBS  Food Balances (2010-)          2  Afghanistan           664   \n",
      "3         FBS  Food Balances (2010-)          2  Afghanistan           664   \n",
      "4         FBS  Food Balances (2010-)          2  Afghanistan           674   \n",
      "\n",
      "                                  Element  Item Code         Item  Year Code  \\\n",
      "0     Food supply quantity (kg/capita/yr)       2731  Bovine Meat       2018   \n",
      "1     Food supply quantity (kg/capita/yr)       2731  Bovine Meat       2019   \n",
      "2           Food supply (kcal/capita/day)       2731  Bovine Meat       2018   \n",
      "3           Food supply (kcal/capita/day)       2731  Bovine Meat       2019   \n",
      "4  Protein supply quantity (g/capita/day)       2731  Bovine Meat       2018   \n",
      "\n",
      "   Year             Unit  Value  \n",
      "0  2018               kg   2.62  \n",
      "1  2019               kg   2.65  \n",
      "2  2018  kcal/capita/day  15.00  \n",
      "3  2019  kcal/capita/day  16.00  \n",
      "4  2018     g/capita/day   1.09  \n",
      "\n",
      "The first lines of df_veg:\n",
      "   Domain Code                 Domain  Area Code         Area  Element Code  \\\n",
      "0         FBS  Food Balances (2010-)          2  Afghanistan           645   \n",
      "1         FBS  Food Balances (2010-)          2  Afghanistan           645   \n",
      "2         FBS  Food Balances (2010-)          2  Afghanistan           664   \n",
      "3         FBS  Food Balances (2010-)          2  Afghanistan           664   \n",
      "4         FBS  Food Balances (2010-)          2  Afghanistan           674   \n",
      "\n",
      "                                  Element  Item Code                Item  \\\n",
      "0     Food supply quantity (kg/capita/yr)       2511  Wheat and products   \n",
      "1     Food supply quantity (kg/capita/yr)       2511  Wheat and products   \n",
      "2           Food supply (kcal/capita/day)       2511  Wheat and products   \n",
      "3           Food supply (kcal/capita/day)       2511  Wheat and products   \n",
      "4  Protein supply quantity (g/capita/day)       2511  Wheat and products   \n",
      "\n",
      "   Year Code  Year             Unit    Value  \n",
      "0       2018  2018               kg   160.12  \n",
      "1       2019  2019               kg   161.93  \n",
      "2       2018  2018  kcal/capita/day  1372.00  \n",
      "3       2019  2019  kcal/capita/day  1387.00  \n",
      "4       2018  2018     g/capita/day    37.00  \n",
      "\n",
      "The first lines of df_pop:\n",
      "   Domain Code                 Domain  Area Code         Area  Element Code  \\\n",
      "0         FBS  Food Balances (2010-)          2  Afghanistan           511   \n",
      "1         FBS  Food Balances (2010-)          2  Afghanistan           511   \n",
      "2         FBS  Food Balances (2010-)          3      Albania           511   \n",
      "3         FBS  Food Balances (2010-)          3      Albania           511   \n",
      "4         FBS  Food Balances (2010-)          4      Algeria           511   \n",
      "\n",
      "                         Element  Item Code        Item  Year Code  Year  \\\n",
      "0  Total Population - Both sexes       2501  Population       2018  2018   \n",
      "1  Total Population - Both sexes       2501  Population       2019  2019   \n",
      "2  Total Population - Both sexes       2501  Population       2018  2018   \n",
      "3  Total Population - Both sexes       2501  Population       2019  2019   \n",
      "4  Total Population - Both sexes       2501  Population       2018  2018   \n",
      "\n",
      "           Unit  Value  \n",
      "0  1000 persons  37172  \n",
      "1  1000 persons  38042  \n",
      "2  1000 persons   2883  \n",
      "3  1000 persons   2881  \n",
      "4  1000 persons  42228  \n"
     ]
    }
   ],
   "source": [
    "print(f\"\\nThe first lines of df_anim:\\n\", df_anim.head())\n",
    "print(f\"\\nThe first lines of df_veg:\\n\", df_veg.head())\n",
    "print(f\"\\nThe first lines of df_pop:\\n\", df_pop.head())"
   ]
  },
  {
   "cell_type": "code",
   "execution_count": 475,
   "metadata": {},
   "outputs": [
    {
     "name": "stdout",
     "output_type": "stream",
     "text": [
      "This is the shape of df_anim : (30725, 12)\n",
      "This is the shape of df_veg : (90576, 12)\n",
      "This is the shape of df_pop : (356, 12)\n"
     ]
    }
   ],
   "source": [
    "print(f\"This is the shape of df_anim : {df_anim.shape}\")\n",
    "print(f\"This is the shape of df_veg : {df_veg.shape}\")\n",
    "print(f\"This is the shape of df_pop : {df_pop.shape}\")"
   ]
  },
  {
   "cell_type": "markdown",
   "metadata": {},
   "source": [
    "## Add a column type to *df_veg* and *df_anim*"
   ]
  },
  {
   "cell_type": "code",
   "execution_count": 476,
   "metadata": {},
   "outputs": [],
   "source": [
    "df_anim = df_anim.assign(type=\"animal_product\")\n",
    "df_veg = df_veg.assign(type=\"vegetal_product\")"
   ]
  },
  {
   "cell_type": "markdown",
   "metadata": {},
   "source": [
    "## Combine *df_anim* and *df_veg*"
   ]
  },
  {
   "cell_type": "code",
   "execution_count": 477,
   "metadata": {},
   "outputs": [],
   "source": [
    "product = pd.concat([df_anim, df_veg], ignore_index=True)"
   ]
  },
  {
   "cell_type": "markdown",
   "metadata": {},
   "source": [
    "## Only keep country code, country, year and population in df_pop"
   ]
  },
  {
   "cell_type": "code",
   "execution_count": 478,
   "metadata": {},
   "outputs": [],
   "source": [
    "df_pop = df_pop.loc[:, [\"Area Code\", \"Area\", \"Year\", \"Value\"]]"
   ]
  },
  {
   "cell_type": "markdown",
   "metadata": {},
   "source": [
    "## Rename columns"
   ]
  },
  {
   "cell_type": "code",
   "execution_count": 479,
   "metadata": {},
   "outputs": [],
   "source": [
    "def change_name(name):\n",
    "  return name.lower().replace(\" \", \"_\")\n",
    "\n",
    "df_pop = df_pop.rename(columns=change_name)\n",
    "product = product.rename(columns=change_name)"
   ]
  },
  {
   "cell_type": "markdown",
   "metadata": {},
   "source": [
    "## Merge *df_pop* and *product*"
   ]
  },
  {
   "cell_type": "code",
   "execution_count": 480,
   "metadata": {},
   "outputs": [
    {
     "name": "stdout",
     "output_type": "stream",
     "text": [
      "(121301, 13)\n",
      "(121301, 15)\n"
     ]
    }
   ],
   "source": [
    "print(product.shape)\n",
    "df = pd.merge(product, df_pop, on=[\"area\", \"year\"], suffixes=(\"_product\", \"_pop\"), how=\"inner\")\n",
    "print(df.shape)"
   ]
  },
  {
   "cell_type": "code",
   "execution_count": 481,
   "metadata": {},
   "outputs": [
    {
     "data": {
      "text/html": [
       "<div>\n",
       "<style scoped>\n",
       "    .dataframe tbody tr th:only-of-type {\n",
       "        vertical-align: middle;\n",
       "    }\n",
       "\n",
       "    .dataframe tbody tr th {\n",
       "        vertical-align: top;\n",
       "    }\n",
       "\n",
       "    .dataframe thead th {\n",
       "        text-align: right;\n",
       "    }\n",
       "</style>\n",
       "<table border=\"1\" class=\"dataframe\">\n",
       "  <thead>\n",
       "    <tr style=\"text-align: right;\">\n",
       "      <th></th>\n",
       "      <th>domain_code</th>\n",
       "      <th>domain</th>\n",
       "      <th>area_code_product</th>\n",
       "      <th>area</th>\n",
       "      <th>element_code</th>\n",
       "      <th>element</th>\n",
       "      <th>item_code</th>\n",
       "      <th>item</th>\n",
       "      <th>year_code</th>\n",
       "      <th>year</th>\n",
       "      <th>unit</th>\n",
       "      <th>value_product</th>\n",
       "      <th>type</th>\n",
       "      <th>area_code_pop</th>\n",
       "      <th>value_pop</th>\n",
       "    </tr>\n",
       "  </thead>\n",
       "  <tbody>\n",
       "    <tr>\n",
       "      <th>0</th>\n",
       "      <td>FBS</td>\n",
       "      <td>Food Balances (2010-)</td>\n",
       "      <td>2</td>\n",
       "      <td>Afghanistan</td>\n",
       "      <td>645</td>\n",
       "      <td>Food supply quantity (kg/capita/yr)</td>\n",
       "      <td>2731</td>\n",
       "      <td>Bovine Meat</td>\n",
       "      <td>2018</td>\n",
       "      <td>2018</td>\n",
       "      <td>kg</td>\n",
       "      <td>2.62</td>\n",
       "      <td>animal_product</td>\n",
       "      <td>2</td>\n",
       "      <td>37172</td>\n",
       "    </tr>\n",
       "    <tr>\n",
       "      <th>1</th>\n",
       "      <td>FBS</td>\n",
       "      <td>Food Balances (2010-)</td>\n",
       "      <td>2</td>\n",
       "      <td>Afghanistan</td>\n",
       "      <td>664</td>\n",
       "      <td>Food supply (kcal/capita/day)</td>\n",
       "      <td>2731</td>\n",
       "      <td>Bovine Meat</td>\n",
       "      <td>2018</td>\n",
       "      <td>2018</td>\n",
       "      <td>kcal/capita/day</td>\n",
       "      <td>15.00</td>\n",
       "      <td>animal_product</td>\n",
       "      <td>2</td>\n",
       "      <td>37172</td>\n",
       "    </tr>\n",
       "    <tr>\n",
       "      <th>2</th>\n",
       "      <td>FBS</td>\n",
       "      <td>Food Balances (2010-)</td>\n",
       "      <td>2</td>\n",
       "      <td>Afghanistan</td>\n",
       "      <td>674</td>\n",
       "      <td>Protein supply quantity (g/capita/day)</td>\n",
       "      <td>2731</td>\n",
       "      <td>Bovine Meat</td>\n",
       "      <td>2018</td>\n",
       "      <td>2018</td>\n",
       "      <td>g/capita/day</td>\n",
       "      <td>1.09</td>\n",
       "      <td>animal_product</td>\n",
       "      <td>2</td>\n",
       "      <td>37172</td>\n",
       "    </tr>\n",
       "    <tr>\n",
       "      <th>3</th>\n",
       "      <td>FBS</td>\n",
       "      <td>Food Balances (2010-)</td>\n",
       "      <td>2</td>\n",
       "      <td>Afghanistan</td>\n",
       "      <td>684</td>\n",
       "      <td>Fat supply quantity (g/capita/day)</td>\n",
       "      <td>2731</td>\n",
       "      <td>Bovine Meat</td>\n",
       "      <td>2018</td>\n",
       "      <td>2018</td>\n",
       "      <td>g/capita/day</td>\n",
       "      <td>1.20</td>\n",
       "      <td>animal_product</td>\n",
       "      <td>2</td>\n",
       "      <td>37172</td>\n",
       "    </tr>\n",
       "    <tr>\n",
       "      <th>4</th>\n",
       "      <td>FBS</td>\n",
       "      <td>Food Balances (2010-)</td>\n",
       "      <td>2</td>\n",
       "      <td>Afghanistan</td>\n",
       "      <td>645</td>\n",
       "      <td>Food supply quantity (kg/capita/yr)</td>\n",
       "      <td>2732</td>\n",
       "      <td>Mutton &amp; Goat Meat</td>\n",
       "      <td>2018</td>\n",
       "      <td>2018</td>\n",
       "      <td>kg</td>\n",
       "      <td>4.26</td>\n",
       "      <td>animal_product</td>\n",
       "      <td>2</td>\n",
       "      <td>37172</td>\n",
       "    </tr>\n",
       "  </tbody>\n",
       "</table>\n",
       "</div>"
      ],
      "text/plain": [
       "  domain_code                 domain  area_code_product         area  \\\n",
       "0         FBS  Food Balances (2010-)                  2  Afghanistan   \n",
       "1         FBS  Food Balances (2010-)                  2  Afghanistan   \n",
       "2         FBS  Food Balances (2010-)                  2  Afghanistan   \n",
       "3         FBS  Food Balances (2010-)                  2  Afghanistan   \n",
       "4         FBS  Food Balances (2010-)                  2  Afghanistan   \n",
       "\n",
       "   element_code                                 element  item_code  \\\n",
       "0           645     Food supply quantity (kg/capita/yr)       2731   \n",
       "1           664           Food supply (kcal/capita/day)       2731   \n",
       "2           674  Protein supply quantity (g/capita/day)       2731   \n",
       "3           684      Fat supply quantity (g/capita/day)       2731   \n",
       "4           645     Food supply quantity (kg/capita/yr)       2732   \n",
       "\n",
       "                 item  year_code  year             unit  value_product  \\\n",
       "0         Bovine Meat       2018  2018               kg           2.62   \n",
       "1         Bovine Meat       2018  2018  kcal/capita/day          15.00   \n",
       "2         Bovine Meat       2018  2018     g/capita/day           1.09   \n",
       "3         Bovine Meat       2018  2018     g/capita/day           1.20   \n",
       "4  Mutton & Goat Meat       2018  2018               kg           4.26   \n",
       "\n",
       "             type  area_code_pop  value_pop  \n",
       "0  animal_product              2      37172  \n",
       "1  animal_product              2      37172  \n",
       "2  animal_product              2      37172  \n",
       "3  animal_product              2      37172  \n",
       "4  animal_product              2      37172  "
      ]
     },
     "execution_count": 481,
     "metadata": {},
     "output_type": "execute_result"
    }
   ],
   "source": [
    "df.head()"
   ]
  },
  {
   "cell_type": "markdown",
   "metadata": {},
   "source": [
    "## Check DataTypes and modify if needed"
   ]
  },
  {
   "cell_type": "code",
   "execution_count": 482,
   "metadata": {},
   "outputs": [
    {
     "data": {
      "text/plain": [
       "domain_code           object\n",
       "domain                object\n",
       "area_code_product      int64\n",
       "area                  object\n",
       "element_code           int64\n",
       "element               object\n",
       "item_code              int64\n",
       "item                  object\n",
       "year_code              int64\n",
       "year                   int64\n",
       "unit                  object\n",
       "value_product        float64\n",
       "type                  object\n",
       "area_code_pop          int64\n",
       "value_pop              int64\n",
       "dtype: object"
      ]
     },
     "execution_count": 482,
     "metadata": {},
     "output_type": "execute_result"
    }
   ],
   "source": [
    "df.dtypes"
   ]
  },
  {
   "cell_type": "markdown",
   "metadata": {},
   "source": [
    "## Check missing values and visualize them"
   ]
  },
  {
   "cell_type": "code",
   "execution_count": 483,
   "metadata": {},
   "outputs": [],
   "source": [
    "null_values = df.isnull().sum(axis=1)"
   ]
  },
  {
   "cell_type": "code",
   "execution_count": 484,
   "metadata": {},
   "outputs": [],
   "source": [
    "import missingno as msno"
   ]
  },
  {
   "cell_type": "code",
   "execution_count": 485,
   "metadata": {},
   "outputs": [
    {
     "data": {
      "text/plain": [
       "<AxesSubplot:>"
      ]
     },
     "execution_count": 485,
     "metadata": {},
     "output_type": "execute_result"
    },
    {
     "data": {
      "image/png": "[encoded data removed]",
      "text/plain": [
       "<Figure size 1800x720 with 3 Axes>"
      ]
     },
     "metadata": {
      "needs_background": "light"
     },
     "output_type": "display_data"
    }
   ],
   "source": [
    "msno.bar(df)"
   ]
  },
  {
   "cell_type": "markdown",
   "metadata": {},
   "source": [
    "## Find if there is weird values and drop them"
   ]
  },
  {
   "cell_type": "code",
   "execution_count": 486,
   "metadata": {},
   "outputs": [],
   "source": [
    "weird_values = df.loc[(df.value_product < 0) | (df.value_pop < 0)]"
   ]
  },
  {
   "cell_type": "code",
   "execution_count": 487,
   "metadata": {},
   "outputs": [
    {
     "name": "stdout",
     "output_type": "stream",
     "text": [
      "(121301, 15)\n",
      "(121299, 15)\n"
     ]
    }
   ],
   "source": [
    "print(df.shape)\n",
    "df.drop(weird_values.index, inplace=True)\n",
    "print(df.shape)"
   ]
  },
  {
   "cell_type": "markdown",
   "metadata": {},
   "source": [
    "## Improve column's names and clean"
   ]
  },
  {
   "cell_type": "code",
   "execution_count": 488,
   "metadata": {},
   "outputs": [
    {
     "data": {
      "text/html": [
       "<div>\n",
       "<style scoped>\n",
       "    .dataframe tbody tr th:only-of-type {\n",
       "        vertical-align: middle;\n",
       "    }\n",
       "\n",
       "    .dataframe tbody tr th {\n",
       "        vertical-align: top;\n",
       "    }\n",
       "\n",
       "    .dataframe thead th {\n",
       "        text-align: right;\n",
       "    }\n",
       "</style>\n",
       "<table border=\"1\" class=\"dataframe\">\n",
       "  <thead>\n",
       "    <tr style=\"text-align: right;\">\n",
       "      <th></th>\n",
       "      <th>area_code</th>\n",
       "      <th>area</th>\n",
       "      <th>element_code</th>\n",
       "      <th>element</th>\n",
       "      <th>item_code</th>\n",
       "      <th>item</th>\n",
       "      <th>year</th>\n",
       "      <th>unit</th>\n",
       "      <th>value_product</th>\n",
       "      <th>type</th>\n",
       "      <th>pop_1000_hab</th>\n",
       "    </tr>\n",
       "  </thead>\n",
       "  <tbody>\n",
       "    <tr>\n",
       "      <th>0</th>\n",
       "      <td>2</td>\n",
       "      <td>Afghanistan</td>\n",
       "      <td>645</td>\n",
       "      <td>Food supply quantity (kg/capita/yr)</td>\n",
       "      <td>2731</td>\n",
       "      <td>Bovine Meat</td>\n",
       "      <td>2018</td>\n",
       "      <td>kg</td>\n",
       "      <td>2.62</td>\n",
       "      <td>animal_product</td>\n",
       "      <td>37172</td>\n",
       "    </tr>\n",
       "    <tr>\n",
       "      <th>1</th>\n",
       "      <td>2</td>\n",
       "      <td>Afghanistan</td>\n",
       "      <td>664</td>\n",
       "      <td>Food supply (kcal/capita/day)</td>\n",
       "      <td>2731</td>\n",
       "      <td>Bovine Meat</td>\n",
       "      <td>2018</td>\n",
       "      <td>kcal/capita/day</td>\n",
       "      <td>15.00</td>\n",
       "      <td>animal_product</td>\n",
       "      <td>37172</td>\n",
       "    </tr>\n",
       "    <tr>\n",
       "      <th>2</th>\n",
       "      <td>2</td>\n",
       "      <td>Afghanistan</td>\n",
       "      <td>674</td>\n",
       "      <td>Protein supply quantity (g/capita/day)</td>\n",
       "      <td>2731</td>\n",
       "      <td>Bovine Meat</td>\n",
       "      <td>2018</td>\n",
       "      <td>g/capita/day</td>\n",
       "      <td>1.09</td>\n",
       "      <td>animal_product</td>\n",
       "      <td>37172</td>\n",
       "    </tr>\n",
       "    <tr>\n",
       "      <th>3</th>\n",
       "      <td>2</td>\n",
       "      <td>Afghanistan</td>\n",
       "      <td>684</td>\n",
       "      <td>Fat supply quantity (g/capita/day)</td>\n",
       "      <td>2731</td>\n",
       "      <td>Bovine Meat</td>\n",
       "      <td>2018</td>\n",
       "      <td>g/capita/day</td>\n",
       "      <td>1.20</td>\n",
       "      <td>animal_product</td>\n",
       "      <td>37172</td>\n",
       "    </tr>\n",
       "    <tr>\n",
       "      <th>4</th>\n",
       "      <td>2</td>\n",
       "      <td>Afghanistan</td>\n",
       "      <td>645</td>\n",
       "      <td>Food supply quantity (kg/capita/yr)</td>\n",
       "      <td>2732</td>\n",
       "      <td>Mutton &amp; Goat Meat</td>\n",
       "      <td>2018</td>\n",
       "      <td>kg</td>\n",
       "      <td>4.26</td>\n",
       "      <td>animal_product</td>\n",
       "      <td>37172</td>\n",
       "    </tr>\n",
       "  </tbody>\n",
       "</table>\n",
       "</div>"
      ],
      "text/plain": [
       "   area_code         area  element_code  \\\n",
       "0          2  Afghanistan           645   \n",
       "1          2  Afghanistan           664   \n",
       "2          2  Afghanistan           674   \n",
       "3          2  Afghanistan           684   \n",
       "4          2  Afghanistan           645   \n",
       "\n",
       "                                  element  item_code                item  \\\n",
       "0     Food supply quantity (kg/capita/yr)       2731         Bovine Meat   \n",
       "1           Food supply (kcal/capita/day)       2731         Bovine Meat   \n",
       "2  Protein supply quantity (g/capita/day)       2731         Bovine Meat   \n",
       "3      Fat supply quantity (g/capita/day)       2731         Bovine Meat   \n",
       "4     Food supply quantity (kg/capita/yr)       2732  Mutton & Goat Meat   \n",
       "\n",
       "   year             unit  value_product            type  pop_1000_hab  \n",
       "0  2018               kg           2.62  animal_product         37172  \n",
       "1  2018  kcal/capita/day          15.00  animal_product         37172  \n",
       "2  2018     g/capita/day           1.09  animal_product         37172  \n",
       "3  2018     g/capita/day           1.20  animal_product         37172  \n",
       "4  2018               kg           4.26  animal_product         37172  "
      ]
     },
     "execution_count": 488,
     "metadata": {},
     "output_type": "execute_result"
    }
   ],
   "source": [
    "df = df.rename(columns={\"area_code_product\": \"area_code\", \"value_pop\": \"pop_1000_hab\"})\n",
    "df = df.drop([\"area_code_pop\", \"domain\", \"domain_code\", \"year_code\"], axis=1)\n",
    "df.head()"
   ]
  },
  {
   "cell_type": "markdown",
   "metadata": {},
   "source": [
    "## Show Area's unique values"
   ]
  },
  {
   "cell_type": "code",
   "execution_count": 489,
   "metadata": {},
   "outputs": [
    {
     "data": {
      "text/plain": [
       "array(['Afghanistan', 'Albania', 'Algeria', 'Angola',\n",
       "       'Antigua and Barbuda', 'Argentina', 'Armenia', 'Australia',\n",
       "       'Austria', 'Azerbaijan', 'Bahamas', 'Bangladesh', 'Barbados',\n",
       "       'Belarus', 'Belgium', 'Belize', 'Benin',\n",
       "       'Bolivia (Plurinational State of)', 'Bosnia and Herzegovina',\n",
       "       'Botswana', 'Brazil', 'Bulgaria', 'Burkina Faso', 'Burundi',\n",
       "       'Cabo Verde', 'Cambodia', 'Cameroon', 'Canada',\n",
       "       'Central African Republic', 'Chad', 'Chile',\n",
       "       'China, Hong Kong SAR', 'China, Macao SAR', 'China, mainland',\n",
       "       'China, Taiwan Province of', 'Colombia', 'Comoros', 'Congo',\n",
       "       'Costa Rica', \"C?te d'Ivoire\", 'Croatia', 'Cuba', 'Cyprus',\n",
       "       'Czechia', \"Democratic People's Republic of Korea\",\n",
       "       'Democratic Republic of the Congo', 'Denmark', 'Djibouti',\n",
       "       'Dominica', 'Dominican Republic', 'Ecuador', 'Egypt',\n",
       "       'El Salvador', 'Estonia', 'Eswatini', 'Ethiopia', 'Fiji',\n",
       "       'Finland', 'France', 'French Polynesia', 'Gabon', 'Gambia',\n",
       "       'Georgia', 'Germany', 'Ghana', 'Greece', 'Grenada', 'Guatemala',\n",
       "       'Guinea', 'Guinea-Bissau', 'Guyana', 'Haiti', 'Honduras',\n",
       "       'Hungary', 'Iceland', 'India', 'Indonesia',\n",
       "       'Iran (Islamic Republic of)', 'Iraq', 'Ireland', 'Israel', 'Italy',\n",
       "       'Jamaica', 'Japan', 'Jordan', 'Kazakhstan', 'Kenya', 'Kiribati',\n",
       "       'Kuwait', 'Kyrgyzstan', \"Lao People's Democratic Republic\",\n",
       "       'Latvia', 'Lebanon', 'Lesotho', 'Liberia', 'Libya', 'Lithuania',\n",
       "       'Luxembourg', 'Madagascar', 'Malawi', 'Malaysia', 'Maldives',\n",
       "       'Mali', 'Malta', 'Mauritania', 'Mauritius', 'Mexico', 'Mongolia',\n",
       "       'Montenegro', 'Morocco', 'Mozambique', 'Myanmar', 'Namibia',\n",
       "       'Nepal', 'Netherlands', 'New Caledonia', 'New Zealand',\n",
       "       'Nicaragua', 'Niger', 'Nigeria', 'North Macedonia', 'Norway',\n",
       "       'Oman', 'Pakistan', 'Panama', 'Papua New Guinea', 'Paraguay',\n",
       "       'Peru', 'Philippines', 'Poland', 'Portugal', 'Republic of Korea',\n",
       "       'Republic of Moldova', 'Romania', 'Russian Federation', 'Rwanda',\n",
       "       'Saint Kitts and Nevis', 'Saint Lucia',\n",
       "       'Saint Vincent and the Grenadines', 'Samoa',\n",
       "       'Sao Tome and Principe', 'Saudi Arabia', 'Senegal', 'Serbia',\n",
       "       'Seychelles', 'Sierra Leone', 'Slovakia', 'Slovenia',\n",
       "       'Solomon Islands', 'South Africa', 'Spain', 'Sri Lanka', 'Sudan',\n",
       "       'Suriname', 'Sweden', 'Switzerland', 'Syrian Arab Republic',\n",
       "       'Tajikistan', 'Thailand', 'Timor-Leste', 'Togo',\n",
       "       'Trinidad and Tobago', 'Tunisia', 'Turkey', 'Turkmenistan',\n",
       "       'Uganda', 'Ukraine',\n",
       "       'United Kingdom of Great Britain and Northern Ireland',\n",
       "       'United Republic of Tanzania', 'United States of America',\n",
       "       'Uruguay', 'Uzbekistan', 'Vanuatu',\n",
       "       'Venezuela (Bolivarian Republic of)', 'Viet Nam', 'Yemen',\n",
       "       'Zambia', 'Zimbabwe'], dtype=object)"
      ]
     },
     "execution_count": 489,
     "metadata": {},
     "output_type": "execute_result"
    }
   ],
   "source": [
    "df.area.unique()"
   ]
  },
  {
   "cell_type": "markdown",
   "metadata": {},
   "source": [
    "## Rename *area_code* and *area* to clearer names"
   ]
  },
  {
   "cell_type": "code",
   "execution_count": 490,
   "metadata": {},
   "outputs": [],
   "source": [
    "df = df.rename(columns={\"area_code\": \"area_country\", \"area\": \"country\"})"
   ]
  },
  {
   "cell_type": "markdown",
   "metadata": {},
   "source": [
    "## Modify values so that "
   ]
  },
  {
   "cell_type": "code",
   "execution_count": 491,
   "metadata": {},
   "outputs": [
    {
     "data": {
      "text/html": [
       "<div>\n",
       "<style scoped>\n",
       "    .dataframe tbody tr th:only-of-type {\n",
       "        vertical-align: middle;\n",
       "    }\n",
       "\n",
       "    .dataframe tbody tr th {\n",
       "        vertical-align: top;\n",
       "    }\n",
       "\n",
       "    .dataframe thead th {\n",
       "        text-align: right;\n",
       "    }\n",
       "</style>\n",
       "<table border=\"1\" class=\"dataframe\">\n",
       "  <thead>\n",
       "    <tr style=\"text-align: right;\">\n",
       "      <th>element</th>\n",
       "      <th>area_country</th>\n",
       "      <th>country</th>\n",
       "      <th>year</th>\n",
       "      <th>pop_1000_hab</th>\n",
       "      <th>item</th>\n",
       "      <th>type</th>\n",
       "      <th>Fat supply quantity (g/capita/day)</th>\n",
       "      <th>Food supply (kcal/capita/day)</th>\n",
       "      <th>Food supply quantity (kg/capita/yr)</th>\n",
       "      <th>Protein supply quantity (g/capita/day)</th>\n",
       "    </tr>\n",
       "  </thead>\n",
       "  <tbody>\n",
       "    <tr>\n",
       "      <th>0</th>\n",
       "      <td>1</td>\n",
       "      <td>Armenia</td>\n",
       "      <td>2018</td>\n",
       "      <td>2952</td>\n",
       "      <td>Apples and products</td>\n",
       "      <td>vegetal_product</td>\n",
       "      <td>0.12</td>\n",
       "      <td>20.0</td>\n",
       "      <td>14.49</td>\n",
       "      <td>0.05</td>\n",
       "    </tr>\n",
       "    <tr>\n",
       "      <th>1</th>\n",
       "      <td>1</td>\n",
       "      <td>Armenia</td>\n",
       "      <td>2018</td>\n",
       "      <td>2952</td>\n",
       "      <td>Aquatic Animals, Others</td>\n",
       "      <td>animal_product</td>\n",
       "      <td>0.00</td>\n",
       "      <td>0.0</td>\n",
       "      <td>0.00</td>\n",
       "      <td>0.00</td>\n",
       "    </tr>\n",
       "    <tr>\n",
       "      <th>2</th>\n",
       "      <td>1</td>\n",
       "      <td>Armenia</td>\n",
       "      <td>2018</td>\n",
       "      <td>2952</td>\n",
       "      <td>Aquatic Plants</td>\n",
       "      <td>animal_product</td>\n",
       "      <td>0.00</td>\n",
       "      <td>0.0</td>\n",
       "      <td>0.00</td>\n",
       "      <td>0.00</td>\n",
       "    </tr>\n",
       "    <tr>\n",
       "      <th>3</th>\n",
       "      <td>1</td>\n",
       "      <td>Armenia</td>\n",
       "      <td>2018</td>\n",
       "      <td>2952</td>\n",
       "      <td>Bananas</td>\n",
       "      <td>vegetal_product</td>\n",
       "      <td>0.06</td>\n",
       "      <td>13.0</td>\n",
       "      <td>7.61</td>\n",
       "      <td>0.15</td>\n",
       "    </tr>\n",
       "    <tr>\n",
       "      <th>4</th>\n",
       "      <td>1</td>\n",
       "      <td>Armenia</td>\n",
       "      <td>2018</td>\n",
       "      <td>2952</td>\n",
       "      <td>Barley and products</td>\n",
       "      <td>vegetal_product</td>\n",
       "      <td>0.03</td>\n",
       "      <td>6.0</td>\n",
       "      <td>0.72</td>\n",
       "      <td>0.20</td>\n",
       "    </tr>\n",
       "  </tbody>\n",
       "</table>\n",
       "</div>"
      ],
      "text/plain": [
       "element  area_country  country  year  pop_1000_hab                     item  \\\n",
       "0                   1  Armenia  2018          2952      Apples and products   \n",
       "1                   1  Armenia  2018          2952  Aquatic Animals, Others   \n",
       "2                   1  Armenia  2018          2952           Aquatic Plants   \n",
       "3                   1  Armenia  2018          2952                  Bananas   \n",
       "4                   1  Armenia  2018          2952      Barley and products   \n",
       "\n",
       "element             type  Fat supply quantity (g/capita/day)  \\\n",
       "0        vegetal_product                                0.12   \n",
       "1         animal_product                                0.00   \n",
       "2         animal_product                                0.00   \n",
       "3        vegetal_product                                0.06   \n",
       "4        vegetal_product                                0.03   \n",
       "\n",
       "element  Food supply (kcal/capita/day)  Food supply quantity (kg/capita/yr)  \\\n",
       "0                                 20.0                                14.49   \n",
       "1                                  0.0                                 0.00   \n",
       "2                                  0.0                                 0.00   \n",
       "3                                 13.0                                 7.61   \n",
       "4                                  6.0                                 0.72   \n",
       "\n",
       "element  Protein supply quantity (g/capita/day)  \n",
       "0                                          0.05  \n",
       "1                                          0.00  \n",
       "2                                          0.00  \n",
       "3                                          0.15  \n",
       "4                                          0.20  "
      ]
     },
     "execution_count": 491,
     "metadata": {},
     "output_type": "execute_result"
    }
   ],
   "source": [
    "df = df.pivot(index=[\"area_country\", \"country\", \"year\", \"pop_1000_hab\", \"item\", \"type\"],columns=\"element\", values=\"value_product\")\n",
    "df = df.reset_index()\n",
    "df.head()"
   ]
  },
  {
   "cell_type": "markdown",
   "metadata": {},
   "source": [
    "## Create masks to filter by year"
   ]
  },
  {
   "cell_type": "code",
   "execution_count": 492,
   "metadata": {},
   "outputs": [],
   "source": [
    "from2018 = df.year == 2018\n",
    "from2019 = df.year == 2019"
   ]
  },
  {
   "cell_type": "markdown",
   "metadata": {},
   "source": [
    "## Mark the least developed countries"
   ]
  },
  {
   "cell_type": "code",
   "execution_count": 493,
   "metadata": {},
   "outputs": [],
   "source": [
    "least_developed = pd.read_csv(\"regions/FAOSTAT_least_developed_countries.csv\")\n",
    "df['developed'] = np.logical_not(df.country.isin(least_developed.Area))"
   ]
  },
  {
   "cell_type": "markdown",
   "metadata": {},
   "source": [
    "## Mark the continents"
   ]
  },
  {
   "cell_type": "code",
   "execution_count": 500,
   "metadata": {},
   "outputs": [],
   "source": [
    "europe = pd.read_csv(\"regions/FAOSTAT_europe.csv\")\n",
    "africa = pd.read_csv(\"regions/FAOSTAT_africa.csv\")\n",
    "asia = pd.read_csv(\"regions/FAOSTAT_asia.csv\")\n",
    "america = pd.read_csv(\"regions/FAOSTAT_americas.csv\")\n",
    "oceania = pd.read_csv(\"regions/FAOSTAT_oceania.csv\")"
   ]
  },
  {
   "cell_type": "code",
   "execution_count": 501,
   "metadata": {},
   "outputs": [],
   "source": [
    "df.loc[df[\"country\"].isin(europe.Area), \"continent\"] = \"europe\"\n",
    "df.loc[df[\"country\"].isin(africa.Area), \"continent\"] = \"africa\"\n",
    "df.loc[df[\"country\"].isin(asia.Area), \"continent\"] = \"asia\"\n",
    "df.loc[df[\"country\"].isin(america.Area), \"continent\"] = \"america\"\n",
    "df.loc[df[\"country\"].isin(oceania.Area), \"continent\"] = \"oceania\""
   ]
  },
  {
   "cell_type": "code",
   "execution_count": 502,
   "metadata": {},
   "outputs": [
    {
     "data": {
      "text/html": [
       "<div>\n",
       "<style scoped>\n",
       "    .dataframe tbody tr th:only-of-type {\n",
       "        vertical-align: middle;\n",
       "    }\n",
       "\n",
       "    .dataframe tbody tr th {\n",
       "        vertical-align: top;\n",
       "    }\n",
       "\n",
       "    .dataframe thead th {\n",
       "        text-align: right;\n",
       "    }\n",
       "</style>\n",
       "<table border=\"1\" class=\"dataframe\">\n",
       "  <thead>\n",
       "    <tr style=\"text-align: right;\">\n",
       "      <th>element</th>\n",
       "      <th>area_country</th>\n",
       "      <th>country</th>\n",
       "      <th>year</th>\n",
       "      <th>pop_1000_hab</th>\n",
       "      <th>item</th>\n",
       "      <th>type</th>\n",
       "      <th>Fat supply quantity (g/capita/day)</th>\n",
       "      <th>Food supply (kcal/capita/day)</th>\n",
       "      <th>Food supply quantity (kg/capita/yr)</th>\n",
       "      <th>Protein supply quantity (g/capita/day)</th>\n",
       "      <th>developed</th>\n",
       "      <th>continent</th>\n",
       "    </tr>\n",
       "  </thead>\n",
       "  <tbody>\n",
       "    <tr>\n",
       "      <th>0</th>\n",
       "      <td>1</td>\n",
       "      <td>Armenia</td>\n",
       "      <td>2018</td>\n",
       "      <td>2952</td>\n",
       "      <td>Apples and products</td>\n",
       "      <td>vegetal_product</td>\n",
       "      <td>0.12</td>\n",
       "      <td>20.0</td>\n",
       "      <td>14.49</td>\n",
       "      <td>0.05</td>\n",
       "      <td>True</td>\n",
       "      <td>asia</td>\n",
       "    </tr>\n",
       "    <tr>\n",
       "      <th>1</th>\n",
       "      <td>1</td>\n",
       "      <td>Armenia</td>\n",
       "      <td>2018</td>\n",
       "      <td>2952</td>\n",
       "      <td>Aquatic Animals, Others</td>\n",
       "      <td>animal_product</td>\n",
       "      <td>0.00</td>\n",
       "      <td>0.0</td>\n",
       "      <td>0.00</td>\n",
       "      <td>0.00</td>\n",
       "      <td>True</td>\n",
       "      <td>asia</td>\n",
       "    </tr>\n",
       "    <tr>\n",
       "      <th>2</th>\n",
       "      <td>1</td>\n",
       "      <td>Armenia</td>\n",
       "      <td>2018</td>\n",
       "      <td>2952</td>\n",
       "      <td>Aquatic Plants</td>\n",
       "      <td>animal_product</td>\n",
       "      <td>0.00</td>\n",
       "      <td>0.0</td>\n",
       "      <td>0.00</td>\n",
       "      <td>0.00</td>\n",
       "      <td>True</td>\n",
       "      <td>asia</td>\n",
       "    </tr>\n",
       "    <tr>\n",
       "      <th>3</th>\n",
       "      <td>1</td>\n",
       "      <td>Armenia</td>\n",
       "      <td>2018</td>\n",
       "      <td>2952</td>\n",
       "      <td>Bananas</td>\n",
       "      <td>vegetal_product</td>\n",
       "      <td>0.06</td>\n",
       "      <td>13.0</td>\n",
       "      <td>7.61</td>\n",
       "      <td>0.15</td>\n",
       "      <td>True</td>\n",
       "      <td>asia</td>\n",
       "    </tr>\n",
       "    <tr>\n",
       "      <th>4</th>\n",
       "      <td>1</td>\n",
       "      <td>Armenia</td>\n",
       "      <td>2018</td>\n",
       "      <td>2952</td>\n",
       "      <td>Barley and products</td>\n",
       "      <td>vegetal_product</td>\n",
       "      <td>0.03</td>\n",
       "      <td>6.0</td>\n",
       "      <td>0.72</td>\n",
       "      <td>0.20</td>\n",
       "      <td>True</td>\n",
       "      <td>asia</td>\n",
       "    </tr>\n",
       "    <tr>\n",
       "      <th>...</th>\n",
       "      <td>...</td>\n",
       "      <td>...</td>\n",
       "      <td>...</td>\n",
       "      <td>...</td>\n",
       "      <td>...</td>\n",
       "      <td>...</td>\n",
       "      <td>...</td>\n",
       "      <td>...</td>\n",
       "      <td>...</td>\n",
       "      <td>...</td>\n",
       "      <td>...</td>\n",
       "      <td>...</td>\n",
       "    </tr>\n",
       "    <tr>\n",
       "      <th>30495</th>\n",
       "      <td>276</td>\n",
       "      <td>Sudan</td>\n",
       "      <td>2019</td>\n",
       "      <td>42813</td>\n",
       "      <td>Tomatoes and products</td>\n",
       "      <td>vegetal_product</td>\n",
       "      <td>0.10</td>\n",
       "      <td>9.0</td>\n",
       "      <td>15.36</td>\n",
       "      <td>0.41</td>\n",
       "      <td>False</td>\n",
       "      <td>africa</td>\n",
       "    </tr>\n",
       "    <tr>\n",
       "      <th>30496</th>\n",
       "      <td>276</td>\n",
       "      <td>Sudan</td>\n",
       "      <td>2019</td>\n",
       "      <td>42813</td>\n",
       "      <td>Vegetables, other</td>\n",
       "      <td>vegetal_product</td>\n",
       "      <td>0.14</td>\n",
       "      <td>20.0</td>\n",
       "      <td>27.51</td>\n",
       "      <td>0.90</td>\n",
       "      <td>False</td>\n",
       "      <td>africa</td>\n",
       "    </tr>\n",
       "    <tr>\n",
       "      <th>30497</th>\n",
       "      <td>276</td>\n",
       "      <td>Sudan</td>\n",
       "      <td>2019</td>\n",
       "      <td>42813</td>\n",
       "      <td>Wheat and products</td>\n",
       "      <td>vegetal_product</td>\n",
       "      <td>1.67</td>\n",
       "      <td>535.0</td>\n",
       "      <td>61.56</td>\n",
       "      <td>16.00</td>\n",
       "      <td>False</td>\n",
       "      <td>africa</td>\n",
       "    </tr>\n",
       "    <tr>\n",
       "      <th>30498</th>\n",
       "      <td>276</td>\n",
       "      <td>Sudan</td>\n",
       "      <td>2019</td>\n",
       "      <td>42813</td>\n",
       "      <td>Wine</td>\n",
       "      <td>vegetal_product</td>\n",
       "      <td>0.00</td>\n",
       "      <td>0.0</td>\n",
       "      <td>0.00</td>\n",
       "      <td>0.00</td>\n",
       "      <td>False</td>\n",
       "      <td>africa</td>\n",
       "    </tr>\n",
       "    <tr>\n",
       "      <th>30499</th>\n",
       "      <td>276</td>\n",
       "      <td>Sudan</td>\n",
       "      <td>2019</td>\n",
       "      <td>42813</td>\n",
       "      <td>Yams</td>\n",
       "      <td>vegetal_product</td>\n",
       "      <td>0.02</td>\n",
       "      <td>12.0</td>\n",
       "      <td>4.23</td>\n",
       "      <td>0.15</td>\n",
       "      <td>False</td>\n",
       "      <td>africa</td>\n",
       "    </tr>\n",
       "  </tbody>\n",
       "</table>\n",
       "<p>30500 rows × 12 columns</p>\n",
       "</div>"
      ],
      "text/plain": [
       "element  area_country  country  year  pop_1000_hab                     item  \\\n",
       "0                   1  Armenia  2018          2952      Apples and products   \n",
       "1                   1  Armenia  2018          2952  Aquatic Animals, Others   \n",
       "2                   1  Armenia  2018          2952           Aquatic Plants   \n",
       "3                   1  Armenia  2018          2952                  Bananas   \n",
       "4                   1  Armenia  2018          2952      Barley and products   \n",
       "...               ...      ...   ...           ...                      ...   \n",
       "30495             276    Sudan  2019         42813    Tomatoes and products   \n",
       "30496             276    Sudan  2019         42813        Vegetables, other   \n",
       "30497             276    Sudan  2019         42813       Wheat and products   \n",
       "30498             276    Sudan  2019         42813                     Wine   \n",
       "30499             276    Sudan  2019         42813                     Yams   \n",
       "\n",
       "element             type  Fat supply quantity (g/capita/day)  \\\n",
       "0        vegetal_product                                0.12   \n",
       "1         animal_product                                0.00   \n",
       "2         animal_product                                0.00   \n",
       "3        vegetal_product                                0.06   \n",
       "4        vegetal_product                                0.03   \n",
       "...                  ...                                 ...   \n",
       "30495    vegetal_product                                0.10   \n",
       "30496    vegetal_product                                0.14   \n",
       "30497    vegetal_product                                1.67   \n",
       "30498    vegetal_product                                0.00   \n",
       "30499    vegetal_product                                0.02   \n",
       "\n",
       "element  Food supply (kcal/capita/day)  Food supply quantity (kg/capita/yr)  \\\n",
       "0                                 20.0                                14.49   \n",
       "1                                  0.0                                 0.00   \n",
       "2                                  0.0                                 0.00   \n",
       "3                                 13.0                                 7.61   \n",
       "4                                  6.0                                 0.72   \n",
       "...                                ...                                  ...   \n",
       "30495                              9.0                                15.36   \n",
       "30496                             20.0                                27.51   \n",
       "30497                            535.0                                61.56   \n",
       "30498                              0.0                                 0.00   \n",
       "30499                             12.0                                 4.23   \n",
       "\n",
       "element  Protein supply quantity (g/capita/day)  developed continent  \n",
       "0                                          0.05       True      asia  \n",
       "1                                          0.00       True      asia  \n",
       "2                                          0.00       True      asia  \n",
       "3                                          0.15       True      asia  \n",
       "4                                          0.20       True      asia  \n",
       "...                                         ...        ...       ...  \n",
       "30495                                      0.41      False    africa  \n",
       "30496                                      0.90      False    africa  \n",
       "30497                                     16.00      False    africa  \n",
       "30498                                      0.00      False    africa  \n",
       "30499                                      0.15      False    africa  \n",
       "\n",
       "[30500 rows x 12 columns]"
      ]
     },
     "execution_count": 502,
     "metadata": {},
     "output_type": "execute_result"
    }
   ],
   "source": [
    "df"
   ]
  },
  {
   "cell_type": "code",
   "execution_count": null,
   "metadata": {},
   "outputs": [],
   "source": []
  }
 ],
 "metadata": {
  "interpreter": {
   "hash": "a51ca132d5c60915a21e1fff679d0fcb9fff0d5e4404977e133dedf6dfc50b14"
  },
  "kernelspec": {
   "display_name": "Python 3.10.0 64-bit ('datascience': conda)",
   "language": "python",
   "name": "python3"
  },
  "language_info": {
   "codemirror_mode": {
    "name": "ipython",
    "version": 3
   },
   "file_extension": ".py",
   "mimetype": "text/x-python",
   "name": "python",
   "nbconvert_exporter": "python",
   "pygments_lexer": "ipython3",
   "version": "3.10.0"
  },
  "orig_nbformat": 4
 },
 "nbformat": 4,
 "nbformat_minor": 2
}
